{
 "cells": [
  {
   "cell_type": "code",
   "execution_count": 1,
   "id": "6246f7c8",
   "metadata": {},
   "outputs": [],
   "source": [
    "x = [' ',' ',' ',' ',' ',' ',' ',' ',' ']"
   ]
  },
  {
   "cell_type": "code",
   "execution_count": 2,
   "id": "969fafb7",
   "metadata": {},
   "outputs": [],
   "source": [
    "def display_board():\n",
    "    print(\"     |     |     \")\n",
    "    print(f\"  6  |  7  |  8  \")\n",
    "    print(\"_____|_____|_____\")\n",
    "    print(\"     |     |     \")\n",
    "    print(f\"  3  |  4  |  5  \")\n",
    "    print(\"_____|_____|_____\")\n",
    "    print(\"     |     |     \")\n",
    "    print(f\"  0  |  1  |  2  \")\n",
    "    print(\"     |     |     \")"
   ]
  },
  {
   "cell_type": "code",
   "execution_count": 3,
   "id": "d66bf77c",
   "metadata": {},
   "outputs": [],
   "source": [
    "def game_board():\n",
    "    print(\"     |     |     \")\n",
    "    print(f\"  {x[6]}  |  {x[7]}  |  {x[8]}  \")\n",
    "    print(\"_____|_____|_____\")\n",
    "    print(\"     |     |     \")\n",
    "    print(f\"  {x[3]}  |  {x[4]}  |  {x[5]}  \")\n",
    "    print(\"_____|_____|_____\")\n",
    "    print(\"     |     |     \")\n",
    "    print(f\"  {x[0]}  |  {x[1]}  |  {x[2]}  \")\n",
    "    print(\"     |     |     \")"
   ]
  },
  {
   "cell_type": "code",
   "execution_count": 4,
   "id": "ccb47f53",
   "metadata": {},
   "outputs": [],
   "source": [
    "def player_input():\n",
    "    player_one=''\n",
    "    player_two=''\n",
    "    pos = []\n",
    "    \n",
    "    while player_one not in ['x', 'y']:\n",
    "        player_one = input(\"Player 1, please select 'x' or 'y' :\").lower()\n",
    "        if player_one == 'x':\n",
    "            player_two = 'y'\n",
    "        else:\n",
    "            player_two = 'x'\n",
    "    print(f\" player 1's selection is {player_one}\")\n",
    "    print(f\" player 2's selection is {player_two}\")\n",
    "    def check_winner(player):\n",
    "        return (\n",
    "            (x[0] == x[1] == x[2] == player) or\n",
    "            (x[3] == x[4] == x[5] == player) or\n",
    "            (x[6] == x[7] == x[8] == player) or\n",
    "            (x[0] == x[3] == x[6] == player) or\n",
    "            (x[1] == x[4] == x[7] == player) or\n",
    "            (x[2] == x[5] == x[8] == player) or\n",
    "            (x[6] == x[4] == x[2] == player) or\n",
    "            (x[8] == x[4] == x[0] == player)\n",
    "        )\n",
    "    for turn in range(9):\n",
    "        if turn%2==0:\n",
    "            current_player = 'Player 1'\n",
    "            symbol = player_one\n",
    "        else:\n",
    "            current_player = 'Player 2'\n",
    "            symbol = player_two\n",
    "        while True:\n",
    "            pos=int(input(f\"{current_player} select an empty cell between 0-8 :\"))\n",
    "            if pos not in range(0,9):\n",
    "                print('Invalid input, please enter a value between 0-8')\n",
    "                continue\n",
    "            if x[pos]==' ':\n",
    "                x[pos]=symbol\n",
    "                clear_screen()\n",
    "                break\n",
    "            else:\n",
    "                clear_screen()\n",
    "                print('Entered position is already occupied. Please select another position')\n",
    "                game_board()\n",
    "        game_board()\n",
    "        clear_screen()\n",
    "        if check_winner(player_one):\n",
    "            print('Player 1 wins!')\n",
    "            return\n",
    "        elif check_winner(player_two):\n",
    "            print('Player 2 wins!')\n",
    "            return\n",
    "    print(\"It's a draw\")"
   ]
  },
  {
   "cell_type": "code",
   "execution_count": null,
   "id": "e2d62f92",
   "metadata": {},
   "outputs": [
    {
     "name": "stdout",
     "output_type": "stream",
     "text": [
      "Player 2 wins!\n"
     ]
    }
   ],
   "source": [
    "#Final Game:\n",
    "from IPython.display import clear_output\n",
    "def clear_screen():\n",
    "    clear_output(wait=True)\n",
    "game_on = True\n",
    "while game_on:\n",
    "    x = [' ',' ',' ',' ',' ',' ',' ',' ',' ']\n",
    "    #Show default board and its position\n",
    "    print('Default Game Board position:')\n",
    "    display_board()\n",
    "    #X and Y selection by players\n",
    "    player_input()\n",
    "    #check if player want to repeat the game\n",
    "    play_again=''\n",
    "    while play_again not in ['y', 'n']:\n",
    "        play_again = input('Do you wish to play again? [y / n] ').lower()\n",
    "        if play_again == 'y':\n",
    "            game_on = True\n",
    "        else:\n",
    "            game_on = False"
   ]
  },
  {
   "cell_type": "code",
   "execution_count": null,
   "id": "25a87c08",
   "metadata": {},
   "outputs": [],
   "source": []
  }
 ],
 "metadata": {
  "kernelspec": {
   "display_name": "Python 3 (ipykernel)",
   "language": "python",
   "name": "python3"
  },
  "language_info": {
   "codemirror_mode": {
    "name": "ipython",
    "version": 3
   },
   "file_extension": ".py",
   "mimetype": "text/x-python",
   "name": "python",
   "nbconvert_exporter": "python",
   "pygments_lexer": "ipython3",
   "version": "3.11.7"
  }
 },
 "nbformat": 4,
 "nbformat_minor": 5
}
